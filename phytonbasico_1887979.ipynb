{
 "cells": [
  {
   "cell_type": "markdown",
   "metadata": {},
   "source": [
    "## **Ejercicio 1:** \n",
    "\n",
    "Realiza una variable con tu matricula y realiza una secuencia de imprimir con tu nombre y tu matricula concatenados.\n"
   ]
  },
  {
   "cell_type": "code",
   "execution_count": 1,
   "metadata": {},
   "outputs": [
    {
     "name": "stdout",
     "output_type": "stream",
     "text": [
      "Mi nombre es Aranza Sifuentes Soto y mi matricula es 1887979\n"
     ]
    }
   ],
   "source": [
    "mat=1887979\n",
    "nom=\"Aranza Sifuentes Soto\"\n",
    "print(\"Mi nombre es\", nom, \"y mi matricula es\", mat)"
   ]
  },
  {
   "cell_type": "markdown",
   "metadata": {},
   "source": [
    "## **Ejercicio 2:** \n",
    "\n",
    "Pidiendo el input del usuario pide dos números y crea una pequeña calculadora con los operadores básicos de suma, resta, multiplicación, división, y exponente.\n"
   ]
  },
  {
   "cell_type": "code",
   "execution_count": 5,
   "metadata": {},
   "outputs": [
    {
     "name": "stdout",
     "output_type": "stream",
     "text": [
      "Ingrese el primer numero2\n",
      "Ingrese el segundo numero2\n",
      "La suma es: 4.0 ,la multiplicacion es: 4.0 , la division es: 1.0 y el exponente es: 4.0\n"
     ]
    }
   ],
   "source": [
    "n1=float(input(\"Ingrese el primer numero\"))\n",
    "n2=float(input(\"Ingrese el segundo numero\"))\n",
    "sumas=n1+n2\n",
    "mult=n1*n2\n",
    "div=n1/n2\n",
    "expo=n1**n2\n",
    "print(\"La suma es:\", sumas, \",la multiplicacion es:\", mult, \", la division es:\", div, \"y el exponente es:\", expo)"
   ]
  },
  {
   "cell_type": "markdown",
   "metadata": {},
   "source": [
    "## **Ejercicio3:** \n",
    "Con loop while o for, realiza una lista de 10 numeros multiplos de 3, y después realiza una función de loop que sume todos los números dentro del arreglo.\n"
   ]
  },
  {
   "cell_type": "code",
   "execution_count": 20,
   "metadata": {},
   "outputs": [
    {
     "name": "stdout",
     "output_type": "stream",
     "text": [
      "3\n",
      "6\n",
      "9\n",
      "12\n",
      "15\n",
      "18\n",
      "21\n",
      "24\n",
      "27\n",
      "30\n",
      "la suma de los numeros es: 165\n"
     ]
    }
   ],
   "source": [
    "i=0\n",
    "sum=0\n",
    "while i<30:\n",
    "    i=i+3\n",
    "    sum=sum+i\n",
    "    print(i)\n",
    "print(\"la suma de los numeros es:\", sum)"
   ]
  },
  {
   "cell_type": "markdown",
   "metadata": {},
   "source": [
    "## **Ejercicio 4:**\n",
    "Revisar si es par o impar, primo o no primo."
   ]
  },
  {
   "cell_type": "code",
   "execution_count": 18,
   "metadata": {},
   "outputs": [
    {
     "name": "stdout",
     "output_type": "stream",
     "text": [
      "Introduce un numero5\n",
      "El numero es impar\n"
     ]
    }
   ],
   "source": [
    "numer=float(input(\"Introduce un numero\"))\n",
    "if numer%2 == 0:\n",
    "    print(\"El numero es par\")\n",
    "else:\n",
    "    print(\"El numero es impar\")"
   ]
  },
  {
   "cell_type": "markdown",
   "metadata": {},
   "source": [
    "Numero primo o no primo "
   ]
  },
  {
   "cell_type": "code",
   "execution_count": 19,
   "metadata": {},
   "outputs": [
    {
     "name": "stdout",
     "output_type": "stream",
     "text": [
      "Introduce un numero27\n",
      "El numero no es primo\n"
     ]
    }
   ],
   "source": [
    "\n",
    "n=int(input(\"Introduce un numero\"))\n",
    "c=0\n",
    "for i in range(1,n):\n",
    "    if n % i == 0:\n",
    "        c+=1\n",
    "if c==2:\n",
    "    print(\"el numero es primo\")\n",
    "else:\n",
    "    print(\"El numero no es primo\")\n"
   ]
  },
  {
   "cell_type": "markdown",
   "metadata": {},
   "source": [
    "## **Ejercicio 5:**\n",
    "Calculadora\n",
    "\n",
    "Guia: https://underc0de.org/foro/python/t32619/"
   ]
  },
  {
   "cell_type": "code",
   "execution_count": 20,
   "metadata": {},
   "outputs": [
    {
     "name": "stdout",
     "output_type": "stream",
     "text": [
      "1)Suma, 2) Resta, 3) Multiplicacion, 4) Division, 5) Exponente\n",
      "Ingrese el numero de su opcion: 3\n",
      "Ingrese un Numero: 5\n",
      "Ingrese otro Numero: 4\n",
      "la multiplicacion es: 20.0\n"
     ]
    }
   ],
   "source": [
    "print(\"1)Suma, 2) Resta, 3) Multiplicacion, 4) Division, 5) Exponente\")\n",
    "opcion=int(input(\"Ingrese el numero de su opcion: \"))\n",
    "nu=6\n",
    "if opcion < 6:\n",
    "    pm=float(input(\"Ingrese un Numero: \"))\n",
    "    sm=float(input(\"Ingrese otro Numero: \"))\n",
    "    if opcion == 1:\n",
    "        sum=pm+sm\n",
    "        print(\"La suma es:\", sum)\n",
    "    elif opcion == 2:\n",
    "        resta=pm-sm\n",
    "        print(\"la resta es:\",resta)\n",
    "    elif opcion == 3:\n",
    "        mult=pm*sm\n",
    "        print(\"la multiplicacion es:\", mult)\n",
    "    elif opcion == 4:\n",
    "        if sm==0:\n",
    "            print(\"ERROR, no se puede dividir entre cero\")\n",
    "        else:\n",
    "            divi = pm/sm\n",
    "            print(\"el cociente es:\", divi)\n",
    "    elif opcion == 5:\n",
    "        ex=pm**sm\n",
    "        print(\"el exponente es:\", ex)\n",
    "        "
   ]
  },
  {
   "cell_type": "markdown",
   "metadata": {},
   "source": [
    "## **Tuplas**\n",
    "Crear una variable flotante, integer, boleana y compleja e imprimir el tipo de variable que es.\n"
   ]
  },
  {
   "cell_type": "code",
   "execution_count": 26,
   "metadata": {},
   "outputs": [
    {
     "name": "stdout",
     "output_type": "stream",
     "text": [
      "<class 'float'>\n",
      "<class 'int'>\n",
      "<class 'str'>\n",
      "<class 'bool'>\n"
     ]
    }
   ],
   "source": [
    "f=3.453\n",
    "e=9\n",
    "s= \"hola\"\n",
    "b=True\n",
    "\n",
    "print(type(f))\n",
    "print(type(e))\n",
    "print(type(s))\n",
    "print(type(b))"
   ]
  },
  {
   "cell_type": "markdown",
   "metadata": {},
   "source": [
    "Crear una tupla con valores enteros imprimir el primer y ultimo valor.\n"
   ]
  },
  {
   "cell_type": "code",
   "execution_count": 28,
   "metadata": {},
   "outputs": [
    {
     "name": "stdout",
     "output_type": "stream",
     "text": [
      "el primer elemento es 18 y el ultimo 36\n"
     ]
    }
   ],
   "source": [
    "edades=[18,23,19,28,36]\n",
    "primer=edades[0]\n",
    "ult=edades[-1]\n",
    "print(\"el primer elemento es\", primer, \"y el ultimo\", ult)"
   ]
  },
  {
   "cell_type": "markdown",
   "metadata": {},
   "source": [
    "Añadir 3 valores de string a la tupla.\n"
   ]
  },
  {
   "cell_type": "code",
   "execution_count": 29,
   "metadata": {},
   "outputs": [],
   "source": [
    "edades=[19,23,19,28,36,\"viejo\",\"niño\",\"adulto\"]"
   ]
  },
  {
   "cell_type": "markdown",
   "metadata": {},
   "source": [
    "Verificar si una variable existe dentro de la tupla.\n"
   ]
  },
  {
   "cell_type": "code",
   "execution_count": 30,
   "metadata": {},
   "outputs": [
    {
     "name": "stdout",
     "output_type": "stream",
     "text": [
      "La edad 20 no está en las edades\n"
     ]
    }
   ],
   "source": [
    "edades=[19,23,19,28,36,\"viejo\",\"niño\",\"adulto\"]\n",
    "if 20 in edades:\n",
    "    print(\"La edad 20 está en las edades\")\n",
    "else:\n",
    "    print(\"La edad 20 no está en las edades\")"
   ]
  },
  {
   "cell_type": "markdown",
   "metadata": {},
   "source": [
    "## **Listas**\n",
    "-Crear una lista con 40 elementos aleatorios enteros.\n",
    "\n",
    "-Con una funcion (def) crear dos listas nuevas a partir de la lista creada por numeros aleatorios, en la cual en una esten los elementos pares, y en la otra los elementos impares\n",
    "\n",
    "-Crear dos variables con la longitud de ambas listas nuevas e imprimir las variables.\n",
    "\n",
    "-Ordenar los elementos de la lista par de mayor a menor, y los de la lista impar de menor a mayor.\n",
    "\n",
    "Guia: https://www.w3schools.com/python/ref_list_sort.asp\n",
    "        \n",
    "\n",
    "-Utilizar al menos cuatro de las funciones de listas en python en la lista original de 40 elementos.\n",
    "\n",
    "Guia: https://likegeeks.com/es/funciones-de-listas-de-python/"
   ]
  },
  {
   "cell_type": "code",
   "execution_count": 20,
   "metadata": {},
   "outputs": [
    {
     "name": "stdout",
     "output_type": "stream",
     "text": [
      "Mi lista creada: [20, 28, 32, 94, 14, 62, 90, 15, 68, 25, 53, 76, 22, 10, 80, 21, 60, 93, 12, 52, 47, 63, 72, 89, 98, 43, 44, 39, 42, 37, 79, 86, 97, 19, 61, 78, 69, 38, 99, 51]\n",
      "Longitud de mi lista 40\n",
      "lista con aumento es: [21, 29, 33, 95, 15, 63, 91, 16, 69, 26, 54, 77, 23, 11, 81, 22, 61, 94, 13, 53, 48, 64, 73, 90, 99, 44, 45, 40, 43, 38, 80, 87, 98, 20, 62, 79, 70, 39, 100, 52]\n",
      "lista cortada es: [29, 33, 95, 15, 63, 91, 16, 69, 26]\n",
      "El maximo de mi lista es: 100\n",
      "La suma de los elementos de mi lista es: 2218\n",
      "Lista de pares [16, 26, 54, 22, 94, 48, 64, 90, 44, 40, 38, 80, 98, 20, 62, 70, 100, 52]\n",
      "Lista impares [21, 29, 33, 95, 15, 63, 91, 69, 77, 23, 11, 81, 61, 13, 53, 73, 99, 45, 43, 87, 79, 39]\n",
      "a 18\n",
      "b 22\n",
      "Lista par de mayor a menor [16, 20, 22, 26, 38, 40, 44, 48, 52, 54, 62, 64, 70, 80, 90, 94, 98, 100]\n",
      "Lista impar de menor a mayor [99, 95, 91, 87, 81, 79, 77, 73, 69, 63, 61, 53, 45, 43, 39, 33, 29, 23, 21, 15, 13, 11]\n"
     ]
    }
   ],
   "source": [
    "import random\n",
    "listar=random.sample(range(100),40)\n",
    "print(\"Mi lista creada:\", listar)\n",
    "print(\"Longitud de mi lista\", len(listar))\n",
    "def lists(A):\n",
    "    ev=[]\n",
    "    od=[]\n",
    "    for i in listar:\n",
    "        if i%2==0:\n",
    "            ev.append(i)\n",
    "        else:\n",
    "            od.append(i)\n",
    "    a=len(ev)\n",
    "    b=len(od)\n",
    "    print(\"Lista de pares\", ev)\n",
    "    print(\"Lista impares\", od)\n",
    "    print(\"a\", a)\n",
    "    print(\"b\", b)\n",
    "    ev.sort()\n",
    "    od.sort(reverse=True)\n",
    "    print(\"Lista par de mayor a menor\", ev)\n",
    "    print(\"Lista impar de menor a mayor\", od)\n",
    "#Actualizar elementos de mi lista\n",
    "for i in range(len(listar)):\n",
    "    listar[i]+=1\n",
    "print(\"lista con aumento es:\", listar)\n",
    "#Cortar lista\n",
    "print(\"lista cortada es:\", listar[1:10])\n",
    "#Maximo de lista\n",
    "print(\"El maximo de mi lista es:\", max(listar))\n",
    "#suma de elementos de lista\n",
    "print(\"La suma de los elementos de mi lista es:\", sum(listar))\n",
    "lists(listar)     \n"
   ]
  },
  {
   "cell_type": "markdown",
   "metadata": {},
   "source": [
    "## **Diccionarios**\n",
    "Crear un diccionario de 6 personas que conozcas con su primer nombre y su edad.\n",
    "\n",
    "Guia: https://devcode.la/tutoriales/diccionarios-en-python/"
   ]
  },
  {
   "cell_type": "code",
   "execution_count": 21,
   "metadata": {},
   "outputs": [
    {
     "name": "stdout",
     "output_type": "stream",
     "text": [
      "{'Yessica': 23, 'Ruben': 22, 'Dora': 41, 'Elisa': 7, 'Elizardo': 14, 'José': 65}\n"
     ]
    }
   ],
   "source": [
    "Dicc={'Yessica': 23, 'Ruben': 22, 'Dora':41, 'Elisa':7, 'Elizardo':14, 'José':65}\n",
    "print(Dicc)"
   ]
  },
  {
   "cell_type": "markdown",
   "metadata": {},
   "source": [
    "Crear una lista con los valores de la edad y reacomodar la lista de menor a mayor valor.\n",
    "\n"
   ]
  },
  {
   "cell_type": "code",
   "execution_count": 24,
   "metadata": {},
   "outputs": [
    {
     "name": "stdout",
     "output_type": "stream",
     "text": [
      "Lista ordenada: [7, 14, 22, 23, 41, 65]\n"
     ]
    }
   ],
   "source": [
    "lista_sorted=sorted(list(Dicc.values()),reverse=False)\n",
    "print(\"Lista ordenada:\",lista_sorted)"
   ]
  },
  {
   "cell_type": "markdown",
   "metadata": {},
   "source": [
    "Usando el diccionario y un loop, imprimir solo los nombres.\n",
    "\n"
   ]
  },
  {
   "cell_type": "code",
   "execution_count": 25,
   "metadata": {},
   "outputs": [
    {
     "name": "stdout",
     "output_type": "stream",
     "text": [
      "Yessica\n",
      "Ruben\n",
      "Dora\n",
      "Elisa\n",
      "Elizardo\n",
      "José\n"
     ]
    }
   ],
   "source": [
    "for i in Dicc:\n",
    "    print(i)"
   ]
  },
  {
   "cell_type": "markdown",
   "metadata": {},
   "source": [
    "Añadir dos personas nuevas a tu diccionario, incluyendo edad.\n",
    "\n"
   ]
  },
  {
   "cell_type": "code",
   "execution_count": 26,
   "metadata": {},
   "outputs": [
    {
     "name": "stdout",
     "output_type": "stream",
     "text": [
      "Diccionario actulizado: {'Yessica': 23, 'Ruben': 22, 'Dora': 41, 'Elisa': 7, 'Elizardo': 14, 'José': 65, 'Aranza': 20, 'Nataly': 22}\n"
     ]
    }
   ],
   "source": [
    "Dicc['Aranza']=20\n",
    "Dicc['Nataly']=22\n",
    "print(\"Diccionario actulizado:\", Dicc)"
   ]
  },
  {
   "cell_type": "markdown",
   "metadata": {},
   "source": [
    "## **Sets**\n",
    "Crea un set con 100 numeros aleatorios enteros del 1 al 25.\n",
    "\n",
    "Guia: https://recursospython.com/guias-y-manuales/conjuntos-sets/\n",
    "\n"
   ]
  },
  {
   "cell_type": "code",
   "execution_count": 34,
   "metadata": {},
   "outputs": [
    {
     "name": "stdout",
     "output_type": "stream",
     "text": [
      "{1, 2, 3, 4, 5, 6, 7, 8, 9, 10, 11, 12, 13, 14, 15, 16, 17, 18, 19, 20, 21, 22, 23, 24, 25}\n"
     ]
    }
   ],
   "source": [
    "s1=set()\n",
    "for i in range(0,100):\n",
    "    s1.add(r.randint(1,25))\n",
    "print(s1)"
   ]
  },
  {
   "cell_type": "markdown",
   "metadata": {},
   "source": [
    "Comprueba la longitud de tu set.\n",
    "\n"
   ]
  },
  {
   "cell_type": "code",
   "execution_count": 36,
   "metadata": {},
   "outputs": [
    {
     "name": "stdout",
     "output_type": "stream",
     "text": [
      "La longitud del set es: 25\n"
     ]
    }
   ],
   "source": [
    "l=len(s1)\n",
    "print(\"La longitud del set es:\", l)\n"
   ]
  },
  {
   "cell_type": "markdown",
   "metadata": {},
   "source": [
    "Crea una lista de 5 numeros aleatorios del 1 al 10 y comprueba si cada valor aparece en el set inicial.\n",
    "\n"
   ]
  },
  {
   "cell_type": "code",
   "execution_count": 49,
   "metadata": {},
   "outputs": [
    {
     "name": "stdout",
     "output_type": "stream",
     "text": [
      "el elemento aparece en el set inicial\n",
      "el elemento aparece en el set inicial\n",
      "el elemento aparece en el set inicial\n",
      "el elemento aparece en el set inicial\n",
      "el elemento aparece en el set inicial\n"
     ]
    }
   ],
   "source": [
    "listaal=[]\n",
    "for i in range(0,5):\n",
    "    listaal.append(r.randint(1,10))\n",
    "for i in listaal:\n",
    "    if i in s1:\n",
    "        print(\"el elemento aparece en el set inicial\")\n",
    "    else:\n",
    "        print(\" El elemento no aparece en el set inicial\") "
   ]
  },
  {
   "cell_type": "code",
   "execution_count": null,
   "metadata": {},
   "outputs": [],
   "source": []
  },
  {
   "cell_type": "code",
   "execution_count": null,
   "metadata": {},
   "outputs": [],
   "source": []
  }
 ],
 "metadata": {
  "kernelspec": {
   "display_name": "Python 3",
   "language": "python",
   "name": "python3"
  },
  "language_info": {
   "codemirror_mode": {
    "name": "ipython",
    "version": 3
   },
   "file_extension": ".py",
   "mimetype": "text/x-python",
   "name": "python",
   "nbconvert_exporter": "python",
   "pygments_lexer": "ipython3",
   "version": "3.8.3"
  }
 },
 "nbformat": 4,
 "nbformat_minor": 4
}
